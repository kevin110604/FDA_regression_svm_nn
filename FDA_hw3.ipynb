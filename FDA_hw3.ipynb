{
 "cells": [
  {
   "cell_type": "markdown",
   "metadata": {},
   "source": [
    "# FDA_hw3\n",
    "\n",
    "## Logistic Regression\n",
    "\n"
   ]
  },
  {
   "cell_type": "code",
   "execution_count": 1,
   "metadata": {},
   "outputs": [],
   "source": [
    "import matplotlib.pyplot as plt\n",
    "from sklearn import linear_model, metrics, model_selection\n",
    "import numpy as np\n",
    "import pandas as pd\n",
    "%matplotlib inline"
   ]
  },
  {
   "cell_type": "code",
   "execution_count": 2,
   "metadata": {},
   "outputs": [
    {
     "data": {
      "text/html": [
       "<div>\n",
       "<style scoped>\n",
       "    .dataframe tbody tr th:only-of-type {\n",
       "        vertical-align: middle;\n",
       "    }\n",
       "\n",
       "    .dataframe tbody tr th {\n",
       "        vertical-align: top;\n",
       "    }\n",
       "\n",
       "    .dataframe thead th {\n",
       "        text-align: right;\n",
       "    }\n",
       "</style>\n",
       "<table border=\"1\" class=\"dataframe\">\n",
       "  <thead>\n",
       "    <tr style=\"text-align: right;\">\n",
       "      <th></th>\n",
       "      <th>Date</th>\n",
       "      <th>Open Price</th>\n",
       "      <th>Close Price</th>\n",
       "      <th>High Price</th>\n",
       "      <th>Low Price</th>\n",
       "      <th>Volume</th>\n",
       "    </tr>\n",
       "  </thead>\n",
       "  <tbody>\n",
       "    <tr>\n",
       "      <th>0</th>\n",
       "      <td>02-Jan-2009</td>\n",
       "      <td>902.99</td>\n",
       "      <td>931.80</td>\n",
       "      <td>934.73</td>\n",
       "      <td>899.35</td>\n",
       "      <td>4048270080</td>\n",
       "    </tr>\n",
       "    <tr>\n",
       "      <th>1</th>\n",
       "      <td>05-Jan-2009</td>\n",
       "      <td>929.17</td>\n",
       "      <td>927.45</td>\n",
       "      <td>936.63</td>\n",
       "      <td>919.53</td>\n",
       "      <td>5413910016</td>\n",
       "    </tr>\n",
       "    <tr>\n",
       "      <th>2</th>\n",
       "      <td>06-Jan-2009</td>\n",
       "      <td>931.17</td>\n",
       "      <td>934.70</td>\n",
       "      <td>943.85</td>\n",
       "      <td>927.28</td>\n",
       "      <td>5392620032</td>\n",
       "    </tr>\n",
       "    <tr>\n",
       "      <th>3</th>\n",
       "      <td>07-Jan-2009</td>\n",
       "      <td>927.45</td>\n",
       "      <td>906.65</td>\n",
       "      <td>927.45</td>\n",
       "      <td>902.37</td>\n",
       "      <td>4704940032</td>\n",
       "    </tr>\n",
       "    <tr>\n",
       "      <th>4</th>\n",
       "      <td>08-Jan-2009</td>\n",
       "      <td>905.73</td>\n",
       "      <td>909.73</td>\n",
       "      <td>910.00</td>\n",
       "      <td>896.81</td>\n",
       "      <td>4991549952</td>\n",
       "    </tr>\n",
       "  </tbody>\n",
       "</table>\n",
       "</div>"
      ],
      "text/plain": [
       "          Date  Open Price  Close Price  High Price  Low Price      Volume\n",
       "0  02-Jan-2009      902.99       931.80      934.73     899.35  4048270080\n",
       "1  05-Jan-2009      929.17       927.45      936.63     919.53  5413910016\n",
       "2  06-Jan-2009      931.17       934.70      943.85     927.28  5392620032\n",
       "3  07-Jan-2009      927.45       906.65      927.45     902.37  4704940032\n",
       "4  08-Jan-2009      905.73       909.73      910.00     896.81  4991549952"
      ]
     },
     "execution_count": 2,
     "metadata": {},
     "output_type": "execute_result"
    }
   ],
   "source": [
    "train = pd.read_csv('training.csv')\n",
    "test = pd.read_csv('test.csv')\n",
    "train.head()"
   ]
  },
  {
   "cell_type": "code",
   "execution_count": 3,
   "metadata": {},
   "outputs": [
    {
     "data": {
      "text/html": [
       "<div>\n",
       "<style scoped>\n",
       "    .dataframe tbody tr th:only-of-type {\n",
       "        vertical-align: middle;\n",
       "    }\n",
       "\n",
       "    .dataframe tbody tr th {\n",
       "        vertical-align: top;\n",
       "    }\n",
       "\n",
       "    .dataframe thead th {\n",
       "        text-align: right;\n",
       "    }\n",
       "</style>\n",
       "<table border=\"1\" class=\"dataframe\">\n",
       "  <thead>\n",
       "    <tr style=\"text-align: right;\">\n",
       "      <th></th>\n",
       "      <th>Date</th>\n",
       "      <th>Open Price</th>\n",
       "      <th>Close Price</th>\n",
       "      <th>High Price</th>\n",
       "      <th>Low Price</th>\n",
       "      <th>Volume</th>\n",
       "      <th>Tomorrow Close Price</th>\n",
       "    </tr>\n",
       "  </thead>\n",
       "  <tbody>\n",
       "    <tr>\n",
       "      <th>0</th>\n",
       "      <td>02-Jan-2009</td>\n",
       "      <td>902.99</td>\n",
       "      <td>931.80</td>\n",
       "      <td>934.73</td>\n",
       "      <td>899.35</td>\n",
       "      <td>4048270080</td>\n",
       "      <td>927.45</td>\n",
       "    </tr>\n",
       "    <tr>\n",
       "      <th>1</th>\n",
       "      <td>05-Jan-2009</td>\n",
       "      <td>929.17</td>\n",
       "      <td>927.45</td>\n",
       "      <td>936.63</td>\n",
       "      <td>919.53</td>\n",
       "      <td>5413910016</td>\n",
       "      <td>934.70</td>\n",
       "    </tr>\n",
       "    <tr>\n",
       "      <th>2</th>\n",
       "      <td>06-Jan-2009</td>\n",
       "      <td>931.17</td>\n",
       "      <td>934.70</td>\n",
       "      <td>943.85</td>\n",
       "      <td>927.28</td>\n",
       "      <td>5392620032</td>\n",
       "      <td>906.65</td>\n",
       "    </tr>\n",
       "    <tr>\n",
       "      <th>3</th>\n",
       "      <td>07-Jan-2009</td>\n",
       "      <td>927.45</td>\n",
       "      <td>906.65</td>\n",
       "      <td>927.45</td>\n",
       "      <td>902.37</td>\n",
       "      <td>4704940032</td>\n",
       "      <td>909.73</td>\n",
       "    </tr>\n",
       "    <tr>\n",
       "      <th>4</th>\n",
       "      <td>08-Jan-2009</td>\n",
       "      <td>905.73</td>\n",
       "      <td>909.73</td>\n",
       "      <td>910.00</td>\n",
       "      <td>896.81</td>\n",
       "      <td>4991549952</td>\n",
       "      <td>890.35</td>\n",
       "    </tr>\n",
       "  </tbody>\n",
       "</table>\n",
       "</div>"
      ],
      "text/plain": [
       "          Date  Open Price  Close Price  High Price  Low Price      Volume  \\\n",
       "0  02-Jan-2009      902.99       931.80      934.73     899.35  4048270080   \n",
       "1  05-Jan-2009      929.17       927.45      936.63     919.53  5413910016   \n",
       "2  06-Jan-2009      931.17       934.70      943.85     927.28  5392620032   \n",
       "3  07-Jan-2009      927.45       906.65      927.45     902.37  4704940032   \n",
       "4  08-Jan-2009      905.73       909.73      910.00     896.81  4991549952   \n",
       "\n",
       "   Tomorrow Close Price  \n",
       "0                927.45  \n",
       "1                934.70  \n",
       "2                906.65  \n",
       "3                909.73  \n",
       "4                890.35  "
      ]
     },
     "execution_count": 3,
     "metadata": {},
     "output_type": "execute_result"
    }
   ],
   "source": [
    "train['Tomorrow Close Price'] = train['Close Price'].shift(-1)\n",
    "test['Tomorrow Close Price'] = test['Close Price'].shift(-1)\n",
    "train.head()"
   ]
  },
  {
   "cell_type": "code",
   "execution_count": 4,
   "metadata": {},
   "outputs": [
    {
     "data": {
      "text/html": [
       "<div>\n",
       "<style scoped>\n",
       "    .dataframe tbody tr th:only-of-type {\n",
       "        vertical-align: middle;\n",
       "    }\n",
       "\n",
       "    .dataframe tbody tr th {\n",
       "        vertical-align: top;\n",
       "    }\n",
       "\n",
       "    .dataframe thead th {\n",
       "        text-align: right;\n",
       "    }\n",
       "</style>\n",
       "<table border=\"1\" class=\"dataframe\">\n",
       "  <thead>\n",
       "    <tr style=\"text-align: right;\">\n",
       "      <th></th>\n",
       "      <th>Date</th>\n",
       "      <th>Open Price</th>\n",
       "      <th>Close Price</th>\n",
       "      <th>High Price</th>\n",
       "      <th>Low Price</th>\n",
       "      <th>Volume</th>\n",
       "      <th>Tomorrow Close Price</th>\n",
       "      <th>Tomorrow Increase</th>\n",
       "    </tr>\n",
       "  </thead>\n",
       "  <tbody>\n",
       "    <tr>\n",
       "      <th>0</th>\n",
       "      <td>02-Jan-2009</td>\n",
       "      <td>902.99</td>\n",
       "      <td>931.80</td>\n",
       "      <td>934.73</td>\n",
       "      <td>899.35</td>\n",
       "      <td>4048270080</td>\n",
       "      <td>927.45</td>\n",
       "      <td>0</td>\n",
       "    </tr>\n",
       "    <tr>\n",
       "      <th>1</th>\n",
       "      <td>05-Jan-2009</td>\n",
       "      <td>929.17</td>\n",
       "      <td>927.45</td>\n",
       "      <td>936.63</td>\n",
       "      <td>919.53</td>\n",
       "      <td>5413910016</td>\n",
       "      <td>934.70</td>\n",
       "      <td>1</td>\n",
       "    </tr>\n",
       "    <tr>\n",
       "      <th>2</th>\n",
       "      <td>06-Jan-2009</td>\n",
       "      <td>931.17</td>\n",
       "      <td>934.70</td>\n",
       "      <td>943.85</td>\n",
       "      <td>927.28</td>\n",
       "      <td>5392620032</td>\n",
       "      <td>906.65</td>\n",
       "      <td>0</td>\n",
       "    </tr>\n",
       "    <tr>\n",
       "      <th>3</th>\n",
       "      <td>07-Jan-2009</td>\n",
       "      <td>927.45</td>\n",
       "      <td>906.65</td>\n",
       "      <td>927.45</td>\n",
       "      <td>902.37</td>\n",
       "      <td>4704940032</td>\n",
       "      <td>909.73</td>\n",
       "      <td>1</td>\n",
       "    </tr>\n",
       "    <tr>\n",
       "      <th>4</th>\n",
       "      <td>08-Jan-2009</td>\n",
       "      <td>905.73</td>\n",
       "      <td>909.73</td>\n",
       "      <td>910.00</td>\n",
       "      <td>896.81</td>\n",
       "      <td>4991549952</td>\n",
       "      <td>890.35</td>\n",
       "      <td>0</td>\n",
       "    </tr>\n",
       "    <tr>\n",
       "      <th>5</th>\n",
       "      <td>09-Jan-2009</td>\n",
       "      <td>909.91</td>\n",
       "      <td>890.35</td>\n",
       "      <td>911.93</td>\n",
       "      <td>888.31</td>\n",
       "      <td>4716499968</td>\n",
       "      <td>870.26</td>\n",
       "      <td>0</td>\n",
       "    </tr>\n",
       "    <tr>\n",
       "      <th>6</th>\n",
       "      <td>12-Jan-2009</td>\n",
       "      <td>890.40</td>\n",
       "      <td>870.26</td>\n",
       "      <td>890.40</td>\n",
       "      <td>864.32</td>\n",
       "      <td>4725049856</td>\n",
       "      <td>871.79</td>\n",
       "      <td>1</td>\n",
       "    </tr>\n",
       "    <tr>\n",
       "      <th>7</th>\n",
       "      <td>13-Jan-2009</td>\n",
       "      <td>869.79</td>\n",
       "      <td>871.79</td>\n",
       "      <td>877.02</td>\n",
       "      <td>862.02</td>\n",
       "      <td>5017469952</td>\n",
       "      <td>842.62</td>\n",
       "      <td>0</td>\n",
       "    </tr>\n",
       "    <tr>\n",
       "      <th>8</th>\n",
       "      <td>14-Jan-2009</td>\n",
       "      <td>867.28</td>\n",
       "      <td>842.62</td>\n",
       "      <td>867.28</td>\n",
       "      <td>836.93</td>\n",
       "      <td>5407880192</td>\n",
       "      <td>843.74</td>\n",
       "      <td>1</td>\n",
       "    </tr>\n",
       "    <tr>\n",
       "      <th>9</th>\n",
       "      <td>15-Jan-2009</td>\n",
       "      <td>841.99</td>\n",
       "      <td>843.74</td>\n",
       "      <td>851.59</td>\n",
       "      <td>817.04</td>\n",
       "      <td>7807350272</td>\n",
       "      <td>850.12</td>\n",
       "      <td>1</td>\n",
       "    </tr>\n",
       "  </tbody>\n",
       "</table>\n",
       "</div>"
      ],
      "text/plain": [
       "          Date  Open Price  Close Price  High Price  Low Price      Volume  \\\n",
       "0  02-Jan-2009      902.99       931.80      934.73     899.35  4048270080   \n",
       "1  05-Jan-2009      929.17       927.45      936.63     919.53  5413910016   \n",
       "2  06-Jan-2009      931.17       934.70      943.85     927.28  5392620032   \n",
       "3  07-Jan-2009      927.45       906.65      927.45     902.37  4704940032   \n",
       "4  08-Jan-2009      905.73       909.73      910.00     896.81  4991549952   \n",
       "5  09-Jan-2009      909.91       890.35      911.93     888.31  4716499968   \n",
       "6  12-Jan-2009      890.40       870.26      890.40     864.32  4725049856   \n",
       "7  13-Jan-2009      869.79       871.79      877.02     862.02  5017469952   \n",
       "8  14-Jan-2009      867.28       842.62      867.28     836.93  5407880192   \n",
       "9  15-Jan-2009      841.99       843.74      851.59     817.04  7807350272   \n",
       "\n",
       "   Tomorrow Close Price  Tomorrow Increase  \n",
       "0                927.45                  0  \n",
       "1                934.70                  1  \n",
       "2                906.65                  0  \n",
       "3                909.73                  1  \n",
       "4                890.35                  0  \n",
       "5                870.26                  0  \n",
       "6                871.79                  1  \n",
       "7                842.62                  0  \n",
       "8                843.74                  1  \n",
       "9                850.12                  1  "
      ]
     },
     "execution_count": 4,
     "metadata": {},
     "output_type": "execute_result"
    }
   ],
   "source": [
    "def f(x):\n",
    "    if x[1] > x[0]:\n",
    "        return 1\n",
    "    return 0\n",
    "\n",
    "train['Tomorrow Increase'] = train[['Close Price', 'Tomorrow Close Price']].apply(f, axis=1)\n",
    "test['Tomorrow Increase'] = test[['Close Price', 'Tomorrow Close Price']].apply(f, axis=1)\n",
    "train.head(10)"
   ]
  },
  {
   "cell_type": "code",
   "execution_count": 5,
   "metadata": {},
   "outputs": [
    {
     "data": {
      "text/html": [
       "<div>\n",
       "<style scoped>\n",
       "    .dataframe tbody tr th:only-of-type {\n",
       "        vertical-align: middle;\n",
       "    }\n",
       "\n",
       "    .dataframe tbody tr th {\n",
       "        vertical-align: top;\n",
       "    }\n",
       "\n",
       "    .dataframe thead th {\n",
       "        text-align: right;\n",
       "    }\n",
       "</style>\n",
       "<table border=\"1\" class=\"dataframe\">\n",
       "  <thead>\n",
       "    <tr style=\"text-align: right;\">\n",
       "      <th></th>\n",
       "      <th>Open Price</th>\n",
       "      <th>Close Price</th>\n",
       "      <th>High Price</th>\n",
       "      <th>Low Price</th>\n",
       "      <th>Volume</th>\n",
       "      <th>Tomorrow Increase</th>\n",
       "    </tr>\n",
       "  </thead>\n",
       "  <tbody>\n",
       "    <tr>\n",
       "      <th>0</th>\n",
       "      <td>902.99</td>\n",
       "      <td>931.80</td>\n",
       "      <td>934.73</td>\n",
       "      <td>899.35</td>\n",
       "      <td>4048270080</td>\n",
       "      <td>0</td>\n",
       "    </tr>\n",
       "    <tr>\n",
       "      <th>1</th>\n",
       "      <td>929.17</td>\n",
       "      <td>927.45</td>\n",
       "      <td>936.63</td>\n",
       "      <td>919.53</td>\n",
       "      <td>5413910016</td>\n",
       "      <td>1</td>\n",
       "    </tr>\n",
       "    <tr>\n",
       "      <th>2</th>\n",
       "      <td>931.17</td>\n",
       "      <td>934.70</td>\n",
       "      <td>943.85</td>\n",
       "      <td>927.28</td>\n",
       "      <td>5392620032</td>\n",
       "      <td>0</td>\n",
       "    </tr>\n",
       "    <tr>\n",
       "      <th>3</th>\n",
       "      <td>927.45</td>\n",
       "      <td>906.65</td>\n",
       "      <td>927.45</td>\n",
       "      <td>902.37</td>\n",
       "      <td>4704940032</td>\n",
       "      <td>1</td>\n",
       "    </tr>\n",
       "    <tr>\n",
       "      <th>4</th>\n",
       "      <td>905.73</td>\n",
       "      <td>909.73</td>\n",
       "      <td>910.00</td>\n",
       "      <td>896.81</td>\n",
       "      <td>4991549952</td>\n",
       "      <td>0</td>\n",
       "    </tr>\n",
       "  </tbody>\n",
       "</table>\n",
       "</div>"
      ],
      "text/plain": [
       "   Open Price  Close Price  High Price  Low Price      Volume  \\\n",
       "0      902.99       931.80      934.73     899.35  4048270080   \n",
       "1      929.17       927.45      936.63     919.53  5413910016   \n",
       "2      931.17       934.70      943.85     927.28  5392620032   \n",
       "3      927.45       906.65      927.45     902.37  4704940032   \n",
       "4      905.73       909.73      910.00     896.81  4991549952   \n",
       "\n",
       "   Tomorrow Increase  \n",
       "0                  0  \n",
       "1                  1  \n",
       "2                  0  \n",
       "3                  1  \n",
       "4                  0  "
      ]
     },
     "execution_count": 5,
     "metadata": {},
     "output_type": "execute_result"
    }
   ],
   "source": [
    "train = train.drop(['Date', 'Tomorrow Close Price'], axis=1)\n",
    "test = test.drop(['Date', 'Tomorrow Close Price'], axis=1)\n",
    "train.head()"
   ]
  },
  {
   "cell_type": "code",
   "execution_count": 6,
   "metadata": {},
   "outputs": [
    {
     "data": {
      "text/html": [
       "<div>\n",
       "<style scoped>\n",
       "    .dataframe tbody tr th:only-of-type {\n",
       "        vertical-align: middle;\n",
       "    }\n",
       "\n",
       "    .dataframe tbody tr th {\n",
       "        vertical-align: top;\n",
       "    }\n",
       "\n",
       "    .dataframe thead th {\n",
       "        text-align: right;\n",
       "    }\n",
       "</style>\n",
       "<table border=\"1\" class=\"dataframe\">\n",
       "  <thead>\n",
       "    <tr style=\"text-align: right;\">\n",
       "      <th></th>\n",
       "      <th>Open Price</th>\n",
       "      <th>Close Price</th>\n",
       "      <th>High Price</th>\n",
       "      <th>Low Price</th>\n",
       "      <th>Volume</th>\n",
       "    </tr>\n",
       "  </thead>\n",
       "  <tbody>\n",
       "    <tr>\n",
       "      <th>0</th>\n",
       "      <td>902.99</td>\n",
       "      <td>931.80</td>\n",
       "      <td>934.73</td>\n",
       "      <td>899.35</td>\n",
       "      <td>4048270080</td>\n",
       "    </tr>\n",
       "    <tr>\n",
       "      <th>1</th>\n",
       "      <td>929.17</td>\n",
       "      <td>927.45</td>\n",
       "      <td>936.63</td>\n",
       "      <td>919.53</td>\n",
       "      <td>5413910016</td>\n",
       "    </tr>\n",
       "    <tr>\n",
       "      <th>2</th>\n",
       "      <td>931.17</td>\n",
       "      <td>934.70</td>\n",
       "      <td>943.85</td>\n",
       "      <td>927.28</td>\n",
       "      <td>5392620032</td>\n",
       "    </tr>\n",
       "    <tr>\n",
       "      <th>3</th>\n",
       "      <td>927.45</td>\n",
       "      <td>906.65</td>\n",
       "      <td>927.45</td>\n",
       "      <td>902.37</td>\n",
       "      <td>4704940032</td>\n",
       "    </tr>\n",
       "    <tr>\n",
       "      <th>4</th>\n",
       "      <td>905.73</td>\n",
       "      <td>909.73</td>\n",
       "      <td>910.00</td>\n",
       "      <td>896.81</td>\n",
       "      <td>4991549952</td>\n",
       "    </tr>\n",
       "  </tbody>\n",
       "</table>\n",
       "</div>"
      ],
      "text/plain": [
       "   Open Price  Close Price  High Price  Low Price      Volume\n",
       "0      902.99       931.80      934.73     899.35  4048270080\n",
       "1      929.17       927.45      936.63     919.53  5413910016\n",
       "2      931.17       934.70      943.85     927.28  5392620032\n",
       "3      927.45       906.65      927.45     902.37  4704940032\n",
       "4      905.73       909.73      910.00     896.81  4991549952"
      ]
     },
     "execution_count": 6,
     "metadata": {},
     "output_type": "execute_result"
    }
   ],
   "source": [
    "col = 'Tomorrow Increase'\n",
    "x_train = train.loc[:, train.columns != col]\n",
    "y_train = train[col]\n",
    "x_test = test.loc[:, test.columns != col]\n",
    "y_test = test[col]\n",
    "x_train.head()"
   ]
  },
  {
   "cell_type": "code",
   "execution_count": 7,
   "metadata": {},
   "outputs": [
    {
     "data": {
      "text/html": [
       "<div>\n",
       "<style scoped>\n",
       "    .dataframe tbody tr th:only-of-type {\n",
       "        vertical-align: middle;\n",
       "    }\n",
       "\n",
       "    .dataframe tbody tr th {\n",
       "        vertical-align: top;\n",
       "    }\n",
       "\n",
       "    .dataframe thead th {\n",
       "        text-align: right;\n",
       "    }\n",
       "</style>\n",
       "<table border=\"1\" class=\"dataframe\">\n",
       "  <thead>\n",
       "    <tr style=\"text-align: right;\">\n",
       "      <th></th>\n",
       "      <th>Open Price</th>\n",
       "      <th>Close Price</th>\n",
       "      <th>High Price</th>\n",
       "      <th>Low Price</th>\n",
       "      <th>Volume</th>\n",
       "    </tr>\n",
       "  </thead>\n",
       "  <tbody>\n",
       "    <tr>\n",
       "      <th>0</th>\n",
       "      <td>-1.551957</td>\n",
       "      <td>-1.494082</td>\n",
       "      <td>-1.505124</td>\n",
       "      <td>-1.540593</td>\n",
       "      <td>0.813446</td>\n",
       "    </tr>\n",
       "    <tr>\n",
       "      <th>1</th>\n",
       "      <td>-1.498010</td>\n",
       "      <td>-1.503047</td>\n",
       "      <td>-1.501205</td>\n",
       "      <td>-1.499034</td>\n",
       "      <td>1.823778</td>\n",
       "    </tr>\n",
       "    <tr>\n",
       "      <th>2</th>\n",
       "      <td>-1.493889</td>\n",
       "      <td>-1.488105</td>\n",
       "      <td>-1.486312</td>\n",
       "      <td>-1.483074</td>\n",
       "      <td>1.808027</td>\n",
       "    </tr>\n",
       "    <tr>\n",
       "      <th>3</th>\n",
       "      <td>-1.501555</td>\n",
       "      <td>-1.545913</td>\n",
       "      <td>-1.520140</td>\n",
       "      <td>-1.534374</td>\n",
       "      <td>1.299265</td>\n",
       "    </tr>\n",
       "    <tr>\n",
       "      <th>4</th>\n",
       "      <td>-1.546311</td>\n",
       "      <td>-1.539566</td>\n",
       "      <td>-1.556133</td>\n",
       "      <td>-1.545824</td>\n",
       "      <td>1.511306</td>\n",
       "    </tr>\n",
       "  </tbody>\n",
       "</table>\n",
       "</div>"
      ],
      "text/plain": [
       "   Open Price  Close Price  High Price  Low Price    Volume\n",
       "0   -1.551957    -1.494082   -1.505124  -1.540593  0.813446\n",
       "1   -1.498010    -1.503047   -1.501205  -1.499034  1.823778\n",
       "2   -1.493889    -1.488105   -1.486312  -1.483074  1.808027\n",
       "3   -1.501555    -1.545913   -1.520140  -1.534374  1.299265\n",
       "4   -1.546311    -1.539566   -1.556133  -1.545824  1.511306"
      ]
     },
     "execution_count": 7,
     "metadata": {},
     "output_type": "execute_result"
    }
   ],
   "source": [
    "x_train_std = x_train\n",
    "x_train_std = (x_train_std - x_train_std.mean()) / x_train_std.std()\n",
    "x_test_std = x_test\n",
    "x_test_std = (x_test_std - x_test_std.mean()) / x_test_std.std()\n",
    "x_train_std.head()"
   ]
  },
  {
   "cell_type": "code",
   "execution_count": 8,
   "metadata": {},
   "outputs": [],
   "source": [
    "def evaluate(model, x_train, y_train, x_test, y_test):\n",
    "    train_preds = model.predict(x_train)\n",
    "    test_preds = model.predict(x_test)\n",
    "    train_acc = metrics.accuracy_score(y_train, train_preds)\n",
    "    test_acc = metrics.accuracy_score(y_test, test_preds)\n",
    "    print('Train accuracy: %s' % train_acc)\n",
    "    print('Test accuracy: %s' % test_acc)\n",
    "    print(test_preds)"
   ]
  },
  {
   "cell_type": "code",
   "execution_count": 9,
   "metadata": {},
   "outputs": [
    {
     "name": "stdout",
     "output_type": "stream",
     "text": [
      "Train accuracy: 0.5450530035335689\n",
      "Test accuracy: 0.4523809523809524\n",
      "[1 0 1 1 1 1 1 0 0 1 0 1 1 0 1 1 1 0 1 1 1 1 1 1 0 1 1 0 0 0 0 0 1 1 1 1 0\n",
      " 0 1 1 1 0 0 1 0 1 0 1 1 1 1 1 1 1 1 1 1 0 1 1 0 1 0 0 1 1 1 0 1 1 1 1 1 1\n",
      " 1 1 1 1 1 0 1 1 1 1 1 0 1 1 0 0 1 1 1 1 1 1 1 1 0 1 1 1 0 1 0 1 1 0 1 0 1\n",
      " 1 1 1 1 1 0 1 1 1 1 1 1 0 1 0 1 0 0 0 1 1 0 1 1 0 1 1 1 1 1 0 1 1 1 1 1 0\n",
      " 0 0 1 1 1 1 1 0 1 0 0 1 1 1 1 0 0 1 0 1 1 1 1 1 1 1 0 1 0 1 1 0 1 0 1 1 1\n",
      " 1 1 1 1 1 1 1 1 0 1 1 1 1 1 0 1 1 1 1 0 1 0 1 1 0 1 0 1 0 0 0 1 1 1 1 1 0\n",
      " 0 1 1 1 1 0 0 0 1 0 1 1 1 0 1 0 1 1 1 1 1 1 1 1 1 1 0 0 1 1]\n"
     ]
    }
   ],
   "source": [
    "model_bl = linear_model.SGDClassifier(loss='log', max_iter=10000, tol=1e-3,\n",
    "                                      learning_rate='adaptive', eta0=0.87)\n",
    "model_bl.fit(x_train_std, y_train)\n",
    "evaluate(model_bl, x_train_std, y_train, x_test_std, y_test)"
   ]
  },
  {
   "cell_type": "markdown",
   "metadata": {},
   "source": [
    "If I drop some attributes..."
   ]
  },
  {
   "cell_type": "code",
   "execution_count": 10,
   "metadata": {},
   "outputs": [
    {
     "data": {
      "text/html": [
       "<div>\n",
       "<style scoped>\n",
       "    .dataframe tbody tr th:only-of-type {\n",
       "        vertical-align: middle;\n",
       "    }\n",
       "\n",
       "    .dataframe tbody tr th {\n",
       "        vertical-align: top;\n",
       "    }\n",
       "\n",
       "    .dataframe thead th {\n",
       "        text-align: right;\n",
       "    }\n",
       "</style>\n",
       "<table border=\"1\" class=\"dataframe\">\n",
       "  <thead>\n",
       "    <tr style=\"text-align: right;\">\n",
       "      <th></th>\n",
       "      <th>Close Price</th>\n",
       "      <th>High Price</th>\n",
       "      <th>Volume</th>\n",
       "    </tr>\n",
       "  </thead>\n",
       "  <tbody>\n",
       "    <tr>\n",
       "      <th>0</th>\n",
       "      <td>-1.494082</td>\n",
       "      <td>-1.505124</td>\n",
       "      <td>0.813446</td>\n",
       "    </tr>\n",
       "    <tr>\n",
       "      <th>1</th>\n",
       "      <td>-1.503047</td>\n",
       "      <td>-1.501205</td>\n",
       "      <td>1.823778</td>\n",
       "    </tr>\n",
       "    <tr>\n",
       "      <th>2</th>\n",
       "      <td>-1.488105</td>\n",
       "      <td>-1.486312</td>\n",
       "      <td>1.808027</td>\n",
       "    </tr>\n",
       "    <tr>\n",
       "      <th>3</th>\n",
       "      <td>-1.545913</td>\n",
       "      <td>-1.520140</td>\n",
       "      <td>1.299265</td>\n",
       "    </tr>\n",
       "    <tr>\n",
       "      <th>4</th>\n",
       "      <td>-1.539566</td>\n",
       "      <td>-1.556133</td>\n",
       "      <td>1.511306</td>\n",
       "    </tr>\n",
       "  </tbody>\n",
       "</table>\n",
       "</div>"
      ],
      "text/plain": [
       "   Close Price  High Price    Volume\n",
       "0    -1.494082   -1.505124  0.813446\n",
       "1    -1.503047   -1.501205  1.823778\n",
       "2    -1.488105   -1.486312  1.808027\n",
       "3    -1.545913   -1.520140  1.299265\n",
       "4    -1.539566   -1.556133  1.511306"
      ]
     },
     "execution_count": 10,
     "metadata": {},
     "output_type": "execute_result"
    }
   ],
   "source": [
    "x2_train_std = x_train_std.drop(['Open Price', 'Low Price'], axis=1)\n",
    "x2_test_std = x_test_std.drop(['Open Price', 'Low Price'], axis=1)\n",
    "x2_train_std.head()"
   ]
  },
  {
   "cell_type": "code",
   "execution_count": 11,
   "metadata": {},
   "outputs": [
    {
     "name": "stdout",
     "output_type": "stream",
     "text": [
      "Train accuracy: 0.5459363957597173\n",
      "Test accuracy: 0.44841269841269843\n",
      "[0 0 1 0 0 1 0 0 0 1 1 1 0 0 1 1 1 1 1 1 1 1 1 1 0 1 1 1 1 0 0 0 1 1 1 1 0\n",
      " 0 1 1 1 0 1 0 0 0 0 1 1 1 1 1 1 1 1 1 1 0 1 1 1 1 0 0 1 1 1 1 1 1 1 1 1 1\n",
      " 1 1 1 1 0 1 1 1 0 1 0 1 1 0 0 0 1 1 1 1 1 1 1 1 0 1 1 1 1 1 0 0 1 0 1 0 1\n",
      " 1 1 1 0 0 0 1 1 1 1 1 1 1 1 0 1 0 1 0 1 1 0 1 1 1 1 1 1 1 1 1 1 1 1 1 1 1\n",
      " 1 1 1 1 1 1 1 1 1 1 1 1 1 1 1 1 1 1 1 1 1 1 1 1 1 1 1 1 1 1 1 1 1 1 1 1 1\n",
      " 1 1 1 1 1 1 1 1 1 1 1 1 1 1 1 1 1 1 1 1 1 1 1 1 0 1 0 1 1 0 0 1 1 1 1 1 0\n",
      " 1 1 1 1 1 0 0 0 1 0 1 1 1 0 1 1 1 1 1 1 1 1 1 1 1 1 0 0 1 0]\n"
     ]
    }
   ],
   "source": [
    "model_bl.fit(x2_train_std, y_train)\n",
    "evaluate(model_bl, x2_train_std, y_train, x2_test_std, y_test)"
   ]
  },
  {
   "cell_type": "code",
   "execution_count": 12,
   "metadata": {},
   "outputs": [],
   "source": [
    "# plt.scatter(x2_train_std['Close Price'], x2_train_std['High Price'], x2_train_std['Volume'])"
   ]
  },
  {
   "cell_type": "code",
   "execution_count": 13,
   "metadata": {},
   "outputs": [],
   "source": [
    "# fig = plt.figure()\n",
    "# ax = fig.add_subplot(111, projection='rectilinear')\n",
    "# ax.scatter(x2_train_std['Close Price'], x2_train_std['High Price'], x2_train_std['Volume'])"
   ]
  },
  {
   "cell_type": "code",
   "execution_count": null,
   "metadata": {},
   "outputs": [],
   "source": []
  },
  {
   "cell_type": "code",
   "execution_count": 14,
   "metadata": {},
   "outputs": [
    {
     "name": "stdout",
     "output_type": "stream",
     "text": [
      "Train accuracy: 0.5459363957597173\n",
      "Test accuracy: 0.5198412698412699\n",
      "[1 1 1 1 1 1 1 1 1 1 1 1 1 0 1 1 1 0 1 1 1 1 1 1 0 1 1 1 1 1 0 1 1 1 1 1 0\n",
      " 1 1 1 1 0 0 1 1 1 0 1 1 1 1 1 1 1 1 1 1 0 1 1 1 1 1 0 1 1 1 1 1 1 1 1 1 1\n",
      " 1 1 1 1 1 1 1 1 1 1 1 0 1 1 1 1 1 1 1 1 1 1 1 1 1 1 1 1 1 1 1 1 1 1 1 1 1\n",
      " 1 1 1 1 1 1 1 1 1 1 1 1 1 1 1 1 1 1 1 1 1 1 1 1 1 1 1 1 1 1 0 1 1 1 1 1 0\n",
      " 1 1 1 1 1 1 1 1 1 1 1 1 1 1 1 1 1 1 1 1 1 1 1 1 1 1 1 1 1 1 1 1 1 1 1 1 1\n",
      " 1 1 1 1 1 1 1 1 1 1 1 1 1 1 0 1 1 1 1 1 1 0 1 1 0 1 1 1 1 1 0 1 1 1 1 1 0\n",
      " 1 1 1 1 1 1 1 0 1 1 1 1 1 0 1 1 1 1 1 1 1 1 1 1 1 1 0 0 1 1]\n"
     ]
    },
    {
     "name": "stderr",
     "output_type": "stream",
     "text": [
      "/usr/local/lib/python3.7/site-packages/sklearn/linear_model/logistic.py:433: FutureWarning: Default solver will be changed to 'lbfgs' in 0.22. Specify a solver to silence this warning.\n",
      "  FutureWarning)\n"
     ]
    }
   ],
   "source": [
    "from sklearn.linear_model import LogisticRegression\n",
    "clf = LogisticRegression().fit(x_train_std, y_train)\n",
    "evaluate(clf, x_train_std, y_train, x_test_std, y_test)"
   ]
  },
  {
   "cell_type": "code",
   "execution_count": null,
   "metadata": {},
   "outputs": [],
   "source": []
  },
  {
   "cell_type": "code",
   "execution_count": null,
   "metadata": {},
   "outputs": [],
   "source": []
  },
  {
   "cell_type": "code",
   "execution_count": null,
   "metadata": {},
   "outputs": [],
   "source": []
  },
  {
   "cell_type": "markdown",
   "metadata": {},
   "source": [
    "## SVM"
   ]
  },
  {
   "cell_type": "code",
   "execution_count": 15,
   "metadata": {},
   "outputs": [],
   "source": [
    "from sklearn import datasets\n",
    "from sklearn.svm import SVC\n",
    "from sklearn.metrics import accuracy_score\n",
    "from matplotlib.colors import ListedColormap"
   ]
  },
  {
   "cell_type": "code",
   "execution_count": null,
   "metadata": {},
   "outputs": [],
   "source": []
  },
  {
   "cell_type": "code",
   "execution_count": 16,
   "metadata": {},
   "outputs": [
    {
     "name": "stdout",
     "output_type": "stream",
     "text": [
      "Penalty = 0.05, Accuracy = 51.98 %\n"
     ]
    }
   ],
   "source": [
    "penalty = 0.05\n",
    "\n",
    "svm = SVC(C=penalty, kernel=\"linear\", probability=True)\n",
    "svm.fit(x_train_std, y_train)\n",
    "  \n",
    "acc_rate = accuracy_score(y_test, svm.predict(x_test_std)) * 100\n",
    "print(\"Penalty = %.2f, Accuracy = %.2f %%\" % (penalty, acc_rate))"
   ]
  },
  {
   "cell_type": "code",
   "execution_count": 17,
   "metadata": {},
   "outputs": [
    {
     "name": "stdout",
     "output_type": "stream",
     "text": [
      "Index: 0; Support vector: [-1.55195714 -1.4940819  -1.50512366 -1.54059292  0.81344611]\n",
      "Index: 2; Support vector: [-1.49388904 -1.4881053  -1.48631212 -1.48307362  1.8080268 ]\n",
      "Index: 4; Support vector: [-1.54631106 -1.53956585 -1.55613347 -1.54582382  1.51130603]\n",
      "Index: 5; Support vector: [-1.53769769 -1.57950599 -1.55215252 -1.5633288   1.30781779]\n",
      "Index: 7; Support vector: [-1.62036954 -1.6177562  -1.6241603  -1.61747068  1.53048223]\n"
     ]
    }
   ],
   "source": [
    "for i, sv in enumerate(zip(svm.support_, svm.support_vectors_)):\n",
    "    if i < 5:\n",
    "        print(\"Index: %s; Support vector: %s\" % (sv[0], sv[1]))"
   ]
  },
  {
   "cell_type": "code",
   "execution_count": 18,
   "metadata": {},
   "outputs": [
    {
     "name": "stdout",
     "output_type": "stream",
     "text": [
      "The labels by model prediction :\n",
      " [1 1 1 1 1 1 1 1 1 1 1 1 1 1 1 1 1 1 1 1 1 1 1 1 1 1 1 1 1 1 1 1 1 1 1 1 1\n",
      " 1 1 1 1 1 1 1 1 1 1 1 1 1 1 1 1 1 1 1 1 1 1 1 1 1 1 1 1 1 1 1 1 1 1 1 1 1\n",
      " 1 1 1 1 1 1 1 1 1 1 1 1 1 1 1 1 1 1 1 1 1 1 1 1 1 1 1 1 1 1 1 1 1 1 1 1 1\n",
      " 1 1 1 1 1 1 1 1 1 1 1 1 1 1 1 1 1 1 1 1 1 1 1 1 1 1 1 1 1 1 1 1 1 1 1 1 1\n",
      " 1 1 1 1 1 1 1 1 1 1 1 1 1 1 1 1 1 1 1 1 1 1 1 1 1 1 1 1 1 1 1 1 1 1 1 1 1\n",
      " 1 1 1 1 1 1 1 1 1 1 1 1 1 1 1 1 1 1 1 1 1 1 1 1 1 1 1 1 1 1 1 1 1 1 1 1 1\n",
      " 1 1 1 1 1 1 1 1 1 1 1 1 1 1 1 1 1 1 1 1 1 1 1 1 1 1 1 1 1 1]\n",
      "Real labels in the testing set :\n",
      " [1 1 1 1 1 0 1 1 0 1 0 1 1 1 0 1 1 0 0 1 0 0 0 1 0 0 1 1 1 1 1 1 0 0 1 1 1\n",
      " 0 0 0 1 1 1 0 1 1 0 0 0 0 1 0 1 0 0 0 1 0 0 1 0 1 1 1 0 1 1 0 1 0 1 1 1 0\n",
      " 0 1 0 1 1 1 0 1 0 0 1 1 0 1 1 1 1 0 1 0 0 1 0 1 0 0 0 1 0 1 1 1 1 0 1 1 1\n",
      " 0 1 0 0 0 1 0 1 0 1 0 1 1 1 0 1 1 1 1 0 1 1 0 1 1 0 0 1 1 1 0 0 0 1 0 1 1\n",
      " 1 1 0 0 0 0 1 0 1 1 1 1 0 0 1 1 1 1 0 1 0 0 0 0 1 1 1 1 1 0 1 1 1 0 0 0 0\n",
      " 1 0 1 0 1 0 0 0 0 0 0 1 0 1 0 0 0 0 0 0 1 0 0 1 1 1 0 1 1 1 0 0 0 0 0 1 1\n",
      " 0 0 1 0 1 1 1 0 1 1 0 0 0 0 1 0 1 0 0 0 1 0 0 0 0 1 1 0 1 0]\n"
     ]
    }
   ],
   "source": [
    "print(\"The labels by model prediction :\\n %s\" % svm.predict(x_test_std))\n",
    "print(\"Real labels in the testing set :\\n %s\" % y_test.values)"
   ]
  },
  {
   "cell_type": "code",
   "execution_count": null,
   "metadata": {},
   "outputs": [],
   "source": []
  },
  {
   "cell_type": "code",
   "execution_count": 19,
   "metadata": {},
   "outputs": [],
   "source": [
    "def plot_decision_regions(X, y, classifier, test_idx=None, resolution=0.02):\n",
    "\n",
    "    # setup marker generator and color map\n",
    "    markers = ('s', 'x', 'o', '^', 'v')\n",
    "    colors = ('red', 'blue', 'lightgreen', 'gray', 'cyan')\n",
    "    cmap = ListedColormap(colors[:len(np.unique(y))])\n",
    "\n",
    "    # plot the decision surface\n",
    "    x1_min, x1_max = X[:, 0].min() - 1, X[:, 0].max() + 1\n",
    "    x2_min, x2_max = X[:, 1].min() - 1, X[:, 1].max() + 1\n",
    "    xx1, xx2 = np.meshgrid(np.arange(x1_min, x1_max, resolution),\n",
    "                           np.arange(x2_min, x2_max, resolution))\n",
    "    Z = classifier.predict(np.array([xx1.ravel(), xx2.ravel()]).T)\n",
    "    Z = Z.reshape(xx1.shape)\n",
    "    plt.contourf(xx1, xx2, Z, alpha=0.4, cmap=cmap)\n",
    "    plt.xlim(xx1.min(), xx1.max())\n",
    "    plt.ylim(xx2.min(), xx2.max())\n",
    "\n",
    "    for idx, cl in enumerate(np.unique(y)):\n",
    "        plt.scatter(x=X[y == cl, 0], \n",
    "                    y=X[y == cl, 1],\n",
    "                    alpha=0.6, \n",
    "                    c = ['red', 'blue', 'lightgreen'][idx],\n",
    "                    edgecolor='black',\n",
    "                    marker=markers[idx], \n",
    "                    label=cl)\n",
    "\n",
    "    # highlight test samples\n",
    "    if test_idx:\n",
    "        # plot all samples\n",
    "        if not versiontuple(np.__version__) >= versiontuple('1.9.0'):\n",
    "            X_test, y_test = X[list(test_idx), :], y[list(test_idx)]\n",
    "            warnings.warn('Please update to NumPy 1.9.0 or newer')\n",
    "        else:\n",
    "            X_test, y_test = X[test_idx, :], y[test_idx]\n",
    "\n",
    "        plt.scatter(X_test[:, 0],\n",
    "                    X_test[:, 1],\n",
    "                    c='',\n",
    "                    alpha=1.0,\n",
    "                    edgecolor='black',\n",
    "                    linewidths=1,\n",
    "                    marker='o',\n",
    "                    s=55, label='test set')\n",
    "        \n",
    "def plot_train_test(location, x, y):\n",
    "  \n",
    "    plt.subplot(1,2,location)\n",
    "\n",
    "    plot_decision_regions(x, y, classifier=svm)\n",
    "    if location == 1:\n",
    "      plt.title(\"Training\")\n",
    "    elif location == 2:\n",
    "      plt.title(\"Testing\")\n",
    "    plt.xlabel('sepal length')\n",
    "    plt.ylabel('sepal width')\n",
    "    plt.legend(loc='upper left')\n",
    "    plt.tight_layout()\n",
    "    "
   ]
  },
  {
   "cell_type": "code",
   "execution_count": 20,
   "metadata": {},
   "outputs": [
    {
     "data": {
      "text/plain": [
       "array([[-1.4940819 ,  0.81344611],\n",
       "       [-1.50304679,  1.82377762],\n",
       "       [-1.4881053 ,  1.8080268 ],\n",
       "       ...,\n",
       "       [ 2.11417398, -1.33141973],\n",
       "       [ 2.12431358, -1.34844934],\n",
       "       [ 2.09560532, -1.19583562]])"
      ]
     },
     "execution_count": 20,
     "metadata": {},
     "output_type": "execute_result"
    }
   ],
   "source": [
    "xtraintmp = x_train_std.drop(['Open Price', 'High Price', 'Low Price'], axis=1)\n",
    "xtesttmp = x_test_std.drop(['Open Price', 'High Price', 'Low Price'], axis=1)\n",
    "\n",
    "x_train_num = xtraintmp.to_numpy()\n",
    "y_train_num = y_train.to_numpy()\n",
    "x_test_num = xtesttmp.to_numpy()\n",
    "y_test_num = y_test.to_numpy()\n",
    "x_train_num"
   ]
  },
  {
   "cell_type": "code",
   "execution_count": 21,
   "metadata": {},
   "outputs": [
    {
     "data": {
      "image/png": "[encoded data removed]",
      "text/plain": [
       "<Figure size 720x360 with 2 Axes>"
      ]
     },
     "metadata": {
      "needs_background": "light"
     },
     "output_type": "display_data"
    }
   ],
   "source": [
    "svm.fit(xtraintmp, y_train)\n",
    "\n",
    "plt.figure(figsize=(10,5))\n",
    "\n",
    "plot_train_test(1, x_train_num, y_train_num)\n",
    "plot_train_test(2, x_test_num, y_test_num)\n",
    "\n",
    "plt.show()"
   ]
  },
  {
   "cell_type": "markdown",
   "metadata": {},
   "source": [
    "## Neural Network"
   ]
  },
  {
   "cell_type": "code",
   "execution_count": 22,
   "metadata": {},
   "outputs": [
    {
     "name": "stderr",
     "output_type": "stream",
     "text": [
      "Using TensorFlow backend.\n"
     ]
    }
   ],
   "source": [
    "from keras import models, layers, optimizers, regularizers\n",
    "import random\n",
    "from sklearn import preprocessing\n",
    "import tensorflow as tf\n",
    "from tqdm import tqdm"
   ]
  },
  {
   "cell_type": "code",
   "execution_count": 23,
   "metadata": {},
   "outputs": [
    {
     "data": {
      "text/plain": [
       "1    1236\n",
       "0    1028\n",
       "Name: Tomorrow Increase, dtype: int64"
      ]
     },
     "execution_count": 23,
     "metadata": {},
     "output_type": "execute_result"
    }
   ],
   "source": [
    "y_train.value_counts()"
   ]
  },
  {
   "cell_type": "code",
   "execution_count": 24,
   "metadata": {},
   "outputs": [
    {
     "data": {
      "text/plain": [
       "1    131\n",
       "0    121\n",
       "Name: Tomorrow Increase, dtype: int64"
      ]
     },
     "execution_count": 24,
     "metadata": {},
     "output_type": "execute_result"
    }
   ],
   "source": [
    "y_test.value_counts()"
   ]
  },
  {
   "cell_type": "code",
   "execution_count": null,
   "metadata": {},
   "outputs": [],
   "source": []
  },
  {
   "cell_type": "code",
   "execution_count": 25,
   "metadata": {},
   "outputs": [],
   "source": [
    "input_dimension = 5\n",
    "hidden_units = 10    # how many neurons in the hidden layer\n",
    "activation = 'relu'  # activation function for hidden layer\n",
    "l2 = 0.001           # regularization - how much we penalize large parameter values\n",
    "learning_rate = 0.1  # how big our steps are in gradient descent\n",
    "epochs = 20          # how many epochs to train for\n",
    "batch_size = 32      # how many samples to use for each gradient descent update"
   ]
  },
  {
   "cell_type": "code",
   "execution_count": 26,
   "metadata": {},
   "outputs": [
    {
     "name": "stdout",
     "output_type": "stream",
     "text": [
      "WARNING:tensorflow:From /usr/local/lib/python3.7/site-packages/tensorflow/python/framework/op_def_library.py:263: colocate_with (from tensorflow.python.framework.ops) is deprecated and will be removed in a future version.\n",
      "Instructions for updating:\n",
      "Colocations handled automatically by placer.\n"
     ]
    }
   ],
   "source": [
    "# create a sequential model\n",
    "model = models.Sequential()\n",
    "# add the hidden layer\n",
    "model.add(layers.Dense(input_dim=input_dimension,\n",
    "                       units=hidden_units, \n",
    "                       activation=activation))\n",
    "# add the output layer\n",
    "model.add(layers.Dense(input_dim=hidden_units,\n",
    "                       units=1,\n",
    "                       activation='sigmoid'))\n",
    "# define our loss function and optimizer\n",
    "# Adam is a kind of gradient descent\n",
    "model.compile(loss='binary_crossentropy',\n",
    "              optimizer=optimizers.Adam(lr=learning_rate),\n",
    "              metrics=['accuracy'])"
   ]
  },
  {
   "cell_type": "code",
   "execution_count": 27,
   "metadata": {},
   "outputs": [
    {
     "name": "stdout",
     "output_type": "stream",
     "text": [
      "WARNING:tensorflow:From /usr/local/lib/python3.7/site-packages/tensorflow/python/ops/math_ops.py:3066: to_int32 (from tensorflow.python.ops.math_ops) is deprecated and will be removed in a future version.\n",
      "Instructions for updating:\n",
      "Use tf.cast instead.\n",
      "Epoch 1/10\n",
      "2264/2264 [==============================] - 0s 175us/step - loss: 0.7044 - acc: 0.5212\n",
      "Epoch 2/10\n",
      "2264/2264 [==============================] - 0s 68us/step - loss: 0.6911 - acc: 0.5393\n",
      "Epoch 3/10\n",
      "2264/2264 [==============================] - 0s 56us/step - loss: 0.6919 - acc: 0.5424\n",
      "Epoch 4/10\n",
      "2264/2264 [==============================] - 0s 49us/step - loss: 0.6904 - acc: 0.5455\n",
      "Epoch 5/10\n",
      "2264/2264 [==============================] - 0s 52us/step - loss: 0.6924 - acc: 0.5437\n",
      "Epoch 6/10\n",
      "2264/2264 [==============================] - 0s 48us/step - loss: 0.6928 - acc: 0.5327\n",
      "Epoch 7/10\n",
      "2264/2264 [==============================] - 0s 52us/step - loss: 0.6926 - acc: 0.5309\n",
      "Epoch 8/10\n",
      "2264/2264 [==============================] - 0s 94us/step - loss: 0.6920 - acc: 0.5459\n",
      "Epoch 9/10\n",
      "2264/2264 [==============================] - 0s 72us/step - loss: 0.6947 - acc: 0.5212\n",
      "Epoch 10/10\n",
      "2264/2264 [==============================] - 0s 69us/step - loss: 0.6904 - acc: 0.5459\n",
      "2264/2264 [==============================] - 0s 58us/step\n",
      "252/252 [==============================] - 0s 34us/step\n",
      "Training accuracy: 0.5459363958650258\n",
      "Testing accuracy: 0.5119047628508674\n"
     ]
    }
   ],
   "source": [
    "# train the parameters\n",
    "history = model.fit(x_train_std, y_train, epochs=10, batch_size=batch_size)\n",
    "\n",
    "# evaluate accuracy\n",
    "train_acc = model.evaluate(x_train_std, y_train, batch_size=32)[1]\n",
    "test_acc = model.evaluate(x_test_std, y_test, batch_size=32)[1]\n",
    "print('Training accuracy: %s' % train_acc)\n",
    "print('Testing accuracy: %s' % test_acc)"
   ]
  },
  {
   "cell_type": "code",
   "execution_count": 28,
   "metadata": {},
   "outputs": [
    {
     "data": {
      "text/plain": [
       "array([[0.5359294 ],\n",
       "       [0.5359294 ],\n",
       "       [0.5359294 ],\n",
       "       [0.5359294 ],\n",
       "       [0.5359294 ],\n",
       "       [0.5359294 ],\n",
       "       [0.5359294 ],\n",
       "       [0.5359294 ],\n",
       "       [0.5359294 ],\n",
       "       [0.5359294 ],\n",
       "       [0.5359294 ],\n",
       "       [0.5359294 ],\n",
       "       [0.5359294 ],\n",
       "       [0.5359294 ],\n",
       "       [0.5359294 ],\n",
       "       [0.5359294 ],\n",
       "       [0.5359294 ],\n",
       "       [0.5359294 ],\n",
       "       [0.5359294 ],\n",
       "       [0.5359294 ],\n",
       "       [0.5359294 ],\n",
       "       [0.5359294 ],\n",
       "       [0.5359294 ],\n",
       "       [0.5359294 ],\n",
       "       [0.5359294 ],\n",
       "       [0.5359294 ],\n",
       "       [0.5359294 ],\n",
       "       [0.5359294 ],\n",
       "       [0.5359294 ],\n",
       "       [0.5359294 ],\n",
       "       [0.5359294 ],\n",
       "       [0.5359294 ],\n",
       "       [0.5359294 ],\n",
       "       [0.5359294 ],\n",
       "       [0.5359294 ],\n",
       "       [0.5359294 ],\n",
       "       [0.5359294 ],\n",
       "       [0.5359294 ],\n",
       "       [0.5359294 ],\n",
       "       [0.5359294 ],\n",
       "       [0.5359294 ],\n",
       "       [0.5359294 ],\n",
       "       [0.5359294 ],\n",
       "       [0.5359294 ],\n",
       "       [0.5359294 ],\n",
       "       [0.5359294 ],\n",
       "       [0.5359294 ],\n",
       "       [0.5359294 ],\n",
       "       [0.5359294 ],\n",
       "       [0.5359294 ],\n",
       "       [0.5359294 ],\n",
       "       [0.5359294 ],\n",
       "       [0.5359294 ],\n",
       "       [0.5359294 ],\n",
       "       [0.5359294 ],\n",
       "       [0.5359294 ],\n",
       "       [0.5359294 ],\n",
       "       [0.5359294 ],\n",
       "       [0.5359294 ],\n",
       "       [0.5359294 ],\n",
       "       [0.5359294 ],\n",
       "       [0.5359294 ],\n",
       "       [0.5359294 ],\n",
       "       [0.5359294 ],\n",
       "       [0.5359294 ],\n",
       "       [0.5359294 ],\n",
       "       [0.5359294 ],\n",
       "       [0.5359294 ],\n",
       "       [0.5359294 ],\n",
       "       [0.5359294 ],\n",
       "       [0.5359294 ],\n",
       "       [0.5359294 ],\n",
       "       [0.5359294 ],\n",
       "       [0.5359294 ],\n",
       "       [0.5359294 ],\n",
       "       [0.5359294 ],\n",
       "       [0.5359294 ],\n",
       "       [0.5359294 ],\n",
       "       [0.5359294 ],\n",
       "       [0.5359294 ],\n",
       "       [0.5359294 ],\n",
       "       [0.5359294 ],\n",
       "       [0.5359294 ],\n",
       "       [0.5359294 ],\n",
       "       [0.5359294 ],\n",
       "       [0.5359294 ],\n",
       "       [0.5359294 ],\n",
       "       [0.5359294 ],\n",
       "       [0.5359294 ],\n",
       "       [0.5359294 ],\n",
       "       [0.5359294 ],\n",
       "       [0.5359294 ],\n",
       "       [0.5359294 ],\n",
       "       [0.5359294 ],\n",
       "       [0.5359294 ],\n",
       "       [0.5359294 ],\n",
       "       [0.5359294 ],\n",
       "       [0.5359294 ],\n",
       "       [0.5359294 ],\n",
       "       [0.5359294 ],\n",
       "       [0.5359294 ],\n",
       "       [0.5359294 ],\n",
       "       [0.5359294 ],\n",
       "       [0.5359294 ],\n",
       "       [0.5359294 ],\n",
       "       [0.5359294 ],\n",
       "       [0.5359294 ],\n",
       "       [0.5359294 ],\n",
       "       [0.5359294 ],\n",
       "       [0.5359294 ],\n",
       "       [0.5359294 ],\n",
       "       [0.5359294 ],\n",
       "       [0.5359294 ],\n",
       "       [0.5359294 ],\n",
       "       [0.5359294 ],\n",
       "       [0.5359294 ],\n",
       "       [0.5359294 ],\n",
       "       [0.5359294 ],\n",
       "       [0.5359294 ],\n",
       "       [0.5359294 ],\n",
       "       [0.5359294 ],\n",
       "       [0.5359294 ],\n",
       "       [0.5359294 ],\n",
       "       [0.5359294 ],\n",
       "       [0.5359294 ],\n",
       "       [0.5359294 ],\n",
       "       [0.548968  ],\n",
       "       [0.5359294 ],\n",
       "       [0.5359294 ],\n",
       "       [0.5359294 ],\n",
       "       [0.5359294 ],\n",
       "       [0.5359294 ],\n",
       "       [0.5359294 ],\n",
       "       [0.5359294 ],\n",
       "       [0.5359294 ],\n",
       "       [0.5359294 ],\n",
       "       [0.5359294 ],\n",
       "       [0.5359294 ],\n",
       "       [0.5359294 ],\n",
       "       [0.5359294 ],\n",
       "       [0.5359294 ],\n",
       "       [0.5359294 ],\n",
       "       [0.5359294 ],\n",
       "       [0.5359294 ],\n",
       "       [0.5359294 ],\n",
       "       [0.5359294 ],\n",
       "       [0.5359294 ],\n",
       "       [0.5359294 ],\n",
       "       [0.5359294 ],\n",
       "       [0.5359294 ],\n",
       "       [0.5359294 ],\n",
       "       [0.5359294 ],\n",
       "       [0.5359294 ],\n",
       "       [0.5359294 ],\n",
       "       [0.5359294 ],\n",
       "       [0.5359294 ],\n",
       "       [0.5359294 ],\n",
       "       [0.5359294 ],\n",
       "       [0.5359294 ],\n",
       "       [0.5359294 ],\n",
       "       [0.5359294 ],\n",
       "       [0.5359294 ],\n",
       "       [0.5359294 ],\n",
       "       [0.5359294 ],\n",
       "       [0.5359294 ],\n",
       "       [0.5359294 ],\n",
       "       [0.5359294 ],\n",
       "       [0.5359294 ],\n",
       "       [0.5359294 ],\n",
       "       [0.5359294 ],\n",
       "       [0.5359294 ],\n",
       "       [0.5359294 ],\n",
       "       [0.5359294 ],\n",
       "       [0.5359294 ],\n",
       "       [0.5359294 ],\n",
       "       [0.5359294 ],\n",
       "       [0.5359294 ],\n",
       "       [0.5359294 ],\n",
       "       [0.5359294 ],\n",
       "       [0.5359294 ],\n",
       "       [0.5359294 ],\n",
       "       [0.5359294 ],\n",
       "       [0.5359294 ],\n",
       "       [0.5359294 ],\n",
       "       [0.5359294 ],\n",
       "       [0.5359294 ],\n",
       "       [0.5359294 ],\n",
       "       [0.5359294 ],\n",
       "       [0.5359294 ],\n",
       "       [0.5359294 ],\n",
       "       [0.5359294 ],\n",
       "       [0.5359294 ],\n",
       "       [0.5359294 ],\n",
       "       [0.5359294 ],\n",
       "       [0.5359294 ],\n",
       "       [0.5359294 ],\n",
       "       [0.5359294 ],\n",
       "       [0.5359294 ],\n",
       "       [0.5359294 ],\n",
       "       [0.5359294 ],\n",
       "       [0.5359294 ],\n",
       "       [0.5359294 ],\n",
       "       [0.5359294 ],\n",
       "       [0.5359294 ],\n",
       "       [0.5359294 ],\n",
       "       [0.5359294 ],\n",
       "       [0.5359294 ],\n",
       "       [0.5359294 ],\n",
       "       [0.5359294 ],\n",
       "       [0.5359294 ],\n",
       "       [0.5359294 ],\n",
       "       [0.5359294 ],\n",
       "       [0.5359294 ],\n",
       "       [0.5359294 ],\n",
       "       [0.5359294 ],\n",
       "       [0.5359294 ],\n",
       "       [0.5359294 ],\n",
       "       [0.5359294 ],\n",
       "       [0.5359294 ],\n",
       "       [0.5359294 ],\n",
       "       [0.5359294 ],\n",
       "       [0.5359294 ],\n",
       "       [0.5359294 ],\n",
       "       [0.5359294 ],\n",
       "       [0.5359294 ],\n",
       "       [0.5359294 ],\n",
       "       [0.4741468 ],\n",
       "       [0.5359294 ],\n",
       "       [0.5359294 ],\n",
       "       [0.5359294 ],\n",
       "       [0.5359294 ],\n",
       "       [0.5359294 ],\n",
       "       [0.5359294 ],\n",
       "       [0.5359294 ],\n",
       "       [0.5359294 ],\n",
       "       [0.5359294 ],\n",
       "       [0.5359294 ],\n",
       "       [0.5359294 ],\n",
       "       [0.5359294 ],\n",
       "       [0.5359294 ],\n",
       "       [0.5359294 ],\n",
       "       [0.5359294 ],\n",
       "       [0.5359294 ],\n",
       "       [0.5359294 ],\n",
       "       [0.5359294 ],\n",
       "       [0.5359294 ],\n",
       "       [0.5359294 ],\n",
       "       [0.49184296],\n",
       "       [0.53785735],\n",
       "       [0.53711903],\n",
       "       [0.5375638 ],\n",
       "       [0.5416577 ]], dtype=float32)"
      ]
     },
     "execution_count": 28,
     "metadata": {},
     "output_type": "execute_result"
    }
   ],
   "source": [
    "model.predict(x_test_std)"
   ]
  },
  {
   "cell_type": "code",
   "execution_count": 29,
   "metadata": {},
   "outputs": [
    {
     "data": {
      "image/png": "[encoded data removed]",
      "text/plain": [
       "<Figure size 432x288 with 1 Axes>"
      ]
     },
     "metadata": {
      "needs_background": "light"
     },
     "output_type": "display_data"
    }
   ],
   "source": [
    "losses = history.history['loss']\n",
    "plt.plot(range(len(losses)), losses, 'r')\n",
    "plt.show()"
   ]
  },
  {
   "cell_type": "code",
   "execution_count": 30,
   "metadata": {},
   "outputs": [],
   "source": [
    "def train_and_evaluate(model, x_train, y_train, x_test, y_test, n=20):\n",
    "    train_accs = []\n",
    "    test_accs = []\n",
    "    with tqdm(total=n) as progress_bar:\n",
    "        for _ in range(n):\n",
    "            model.fit(x_train, y_train, epochs=epochs, \n",
    "                      batch_size=batch_size, verbose=False)\n",
    "            train_accs.append(model.evaluate(x_train, y_train, batch_size=32, verbose=False)[1])\n",
    "            test_accs.append(model.evaluate(x_test, y_test, batch_size=32, verbose=False)[1])\n",
    "            progress_bar.update()\n",
    "    print('Avgerage Training Accuracy: %s' % np.average(train_accs))\n",
    "    print('Avgerage Testing Accuracy: %s' % np.average(test_accs))\n",
    "    return train_accs, test_accs"
   ]
  },
  {
   "cell_type": "code",
   "execution_count": 31,
   "metadata": {},
   "outputs": [
    {
     "name": "stderr",
     "output_type": "stream",
     "text": [
      "100%|██████████| 20/20 [00:35<00:00,  1.66s/it]"
     ]
    },
    {
     "name": "stdout",
     "output_type": "stream",
     "text": [
      "Avgerage Training Accuracy: 0.5413427562943195\n",
      "Avgerage Testing Accuracy: 0.5132936513376615\n"
     ]
    },
    {
     "name": "stderr",
     "output_type": "stream",
     "text": [
      "\n"
     ]
    }
   ],
   "source": [
    "train_accs, test_accs = train_and_evaluate(model, x_train_std, y_train, x_test_std, y_test)"
   ]
  },
  {
   "cell_type": "code",
   "execution_count": 32,
   "metadata": {},
   "outputs": [
    {
     "data": {
      "image/png": "[encoded data removed]",
      "text/plain": [
       "<Figure size 432x288 with 1 Axes>"
      ]
     },
     "metadata": {
      "needs_background": "light"
     },
     "output_type": "display_data"
    }
   ],
   "source": [
    "plt.violinplot(test_accs)\n",
    "plt.show()"
   ]
  },
  {
   "cell_type": "code",
   "execution_count": 33,
   "metadata": {},
   "outputs": [
    {
     "name": "stdout",
     "output_type": "stream",
     "text": [
      "Max: 0.5198412703143226\n",
      "Min: 0.48412698696530054\n"
     ]
    }
   ],
   "source": [
    "print('Max: %s' % np.max(test_accs))\n",
    "print('Min: %s' % np.min(test_accs))"
   ]
  },
  {
   "cell_type": "markdown",
   "metadata": {},
   "source": [
    "## Discussion\n",
    "\n",
    "### How did you preprocess this dataset ?\n",
    "\n",
    "\n",
    "### Which classifier reaches the highest classification accuracy in this dataset ?\n",
    "\n",
    "\n",
    "#### Why ?\n",
    "\n",
    "\n",
    "#### Can this result remain if the dataset is different ?\n",
    "\n",
    "\n",
    "### How did you improve your classifiers ?\n"
   ]
  }
 ],
 "metadata": {
  "kernelspec": {
   "display_name": "Python 3",
   "language": "python",
   "name": "python3"
  },
  "language_info": {
   "codemirror_mode": {
    "name": "ipython",
    "version": 3
   },
   "file_extension": ".py",
   "mimetype": "text/x-python",
   "name": "python",
   "nbconvert_exporter": "python",
   "pygments_lexer": "ipython3",
   "version": "3.7.3"
  }
 },
 "nbformat": 4,
 "nbformat_minor": 2
}
